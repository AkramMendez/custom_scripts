{
 "cells": [
  {
   "cell_type": "code",
   "execution_count": 1,
   "metadata": {},
   "outputs": [],
   "source": [
    "import pandas as pd\n",
    "import numpy as np\n",
    "import matplotlib.pyplot as plt"
   ]
  },
  {
   "cell_type": "code",
   "execution_count": 20,
   "metadata": {},
   "outputs": [
    {
     "name": "stdout",
     "output_type": "stream",
     "text": [
      "Types of placeholders in Python\n",
      "\n",
      "%s, String format. It's used to insert a string representation of an object.\")\n",
      "%d: Integer format. It's used to insert an integer into the string.\n",
      "%f: Floating-point format. It's used to insert a floating-point number into the string.\n",
      "%x or %X: Hexadecimal format. It's used to insert an integer in hexadecimal (lowercase or uppercase).\n",
      "%o: Octal format. It's used to insert an integer in octal.\n",
      "%r: Raw format. It's used to insert the \"official\" string representation of an object.\n",
      "\n",
      "------------------------\n",
      "Example:\n",
      "This is a string: ThisIsAString\n",
      "This is an integer: 100\n",
      "This is a float: 1.050000\n",
      "This is hexadecimal of 100: 64\n",
      "This is octal: 144 of 100\n",
      "This is raw format: 'ThisIsAString'\n"
     ]
    }
   ],
   "source": [
    "print(\"Types of placeholders in Python\")\n",
    "print(\"\"\"\n",
    "%s, String format. It's used to insert a string representation of an object.\")\n",
    "%d: Integer format. It's used to insert an integer into the string.\n",
    "%f: Floating-point format. It's used to insert a floating-point number into the string.\n",
    "%x or %X: Hexadecimal format. It's used to insert an integer in hexadecimal (lowercase or uppercase).\n",
    "%o: Octal format. It's used to insert an integer in octal.\n",
    "%r: Raw format. It's used to insert the \"official\" string representation of an object.\n",
    "\"\"\"\n",
    ")\n",
    "\n",
    "print(\"------------------------\")\n",
    "print(\"Example:\")\n",
    "\n",
    "a = \"ThisIsAString\"\n",
    "b = 100\n",
    "c = 1.05\n",
    "\n",
    "print(\"This is a string: %s\" % a)\n",
    "print(\"This is an integer: %d\" % b)\n",
    "print(\"This is a float: %f\" % c)\n",
    "print(\"This is hexadecimal of %d: %x\" % (b,b))\n",
    "print(\"This is octal: %o of %d\" % (b,b))\n",
    "print(\"This is raw format: %r\" % a)"
   ]
  },
  {
   "cell_type": "code",
   "execution_count": 39,
   "metadata": {},
   "outputs": [
    {
     "name": "stdout",
     "output_type": "stream",
     "text": [
      "Another way of printing with formatig with placeholders,is to use f-strings:\n",
      "\n",
      "      This is a string: ThisIsAString\n",
      "      This is an integer: 100\n",
      "      This is a float: 1.05\n",
      "      This is hexadecimal of 100: 64\n",
      "      This is octal of 100: 144\n",
      "      This is raw format: 'ThisIsAString'\n"
     ]
    }
   ],
   "source": [
    "print(\"Another way of printing with formatig with placeholders,is to use f-strings:\")\n",
    "print(f\"\"\"\n",
    "      This is a string: {a}\n",
    "      This is an integer: {b}\n",
    "      This is a float: {c}\n",
    "      This is hexadecimal of {b}: {b:x}\n",
    "      This is octal of {b}: {b:o}\n",
    "      This is raw format: {repr(a)}\"\"\"\n",
    "      )"
   ]
  }
 ],
 "metadata": {
  "kernelspec": {
   "display_name": "base",
   "language": "python",
   "name": "python3"
  },
  "language_info": {
   "codemirror_mode": {
    "name": "ipython",
    "version": 3
   },
   "file_extension": ".py",
   "mimetype": "text/x-python",
   "name": "python",
   "nbconvert_exporter": "python",
   "pygments_lexer": "ipython3",
   "version": "3.7.12"
  }
 },
 "nbformat": 4,
 "nbformat_minor": 2
}
