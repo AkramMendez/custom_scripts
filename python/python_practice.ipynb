{
 "cells": [
  {
   "cell_type": "code",
   "execution_count": 1,
   "metadata": {},
   "outputs": [],
   "source": [
    "import pandas as pd\n",
    "import numpy as np\n",
    "import matplotlib.pyplot as plt"
   ]
  },
  {
   "cell_type": "code",
   "execution_count": 20,
   "metadata": {},
   "outputs": [
    {
     "name": "stdout",
     "output_type": "stream",
     "text": [
      "Types of placeholders in Python\n",
      "\n",
      "%s, String format. It's used to insert a string representation of an object.\")\n",
      "%d: Integer format. It's used to insert an integer into the string.\n",
      "%f: Floating-point format. It's used to insert a floating-point number into the string.\n",
      "%x or %X: Hexadecimal format. It's used to insert an integer in hexadecimal (lowercase or uppercase).\n",
      "%o: Octal format. It's used to insert an integer in octal.\n",
      "%r: Raw format. It's used to insert the \"official\" string representation of an object.\n",
      "\n",
      "------------------------\n",
      "Example:\n",
      "This is a string: ThisIsAString\n",
      "This is an integer: 100\n",
      "This is a float: 1.050000\n",
      "This is hexadecimal of 100: 64\n",
      "This is octal: 144 of 100\n",
      "This is raw format: 'ThisIsAString'\n"
     ]
    }
   ],
   "source": [
    "print(\"Types of placeholders in Python\")\n",
    "print(\"\"\"\n",
    "%s, String format. It's used to insert a string representation of an object.\")\n",
    "%d: Integer format. It's used to insert an integer into the string.\n",
    "%f: Floating-point format. It's used to insert a floating-point number into the string.\n",
    "%x or %X: Hexadecimal format. It's used to insert an integer in hexadecimal (lowercase or uppercase).\n",
    "%o: Octal format. It's used to insert an integer in octal.\n",
    "%r: Raw format. It's used to insert the \"official\" string representation of an object.\n",
    "\"\"\"\n",
    ")\n",
    "\n",
    "print(\"------------------------\")\n",
    "print(\"Example:\")\n",
    "\n",
    "a = \"ThisIsAString\"\n",
    "b = 100\n",
    "c = 1.05\n",
    "\n",
    "print(\"This is a string: %s\" % a)\n",
    "print(\"This is an integer: %d\" % b)\n",
    "print(\"This is a float: %f\" % c)\n",
    "print(\"This is hexadecimal of %d: %x\" % (b,b))\n",
    "print(\"This is octal: %o of %d\" % (b,b))\n",
    "print(\"This is raw format: %r\" % a)"
   ]
  },
  {
   "cell_type": "code",
   "execution_count": 39,
   "metadata": {},
   "outputs": [
    {
     "name": "stdout",
     "output_type": "stream",
     "text": [
      "Another way of printing with formatig with placeholders,is to use f-strings:\n",
      "\n",
      "      This is a string: ThisIsAString\n",
      "      This is an integer: 100\n",
      "      This is a float: 1.05\n",
      "      This is hexadecimal of 100: 64\n",
      "      This is octal of 100: 144\n",
      "      This is raw format: 'ThisIsAString'\n"
     ]
    }
   ],
   "source": [
    "print(\"Another way of printing with formatig with placeholders,is to use f-strings:\")\n",
    "print(f\"\"\"\n",
    "      This is a string: {a}\n",
    "      This is an integer: {b}\n",
    "      This is a float: {c}\n",
    "      This is hexadecimal of {b}: {b:x}\n",
    "      This is octal of {b}: {b:o}\n",
    "      This is raw format: {repr(a)}\"\"\"\n",
    "      )"
   ]
  },
  {
   "cell_type": "code",
   "execution_count": 3,
   "metadata": {},
   "outputs": [
    {
     "data": {
      "text/html": [
       "<div>\n",
       "<style scoped>\n",
       "    .dataframe tbody tr th:only-of-type {\n",
       "        vertical-align: middle;\n",
       "    }\n",
       "\n",
       "    .dataframe tbody tr th {\n",
       "        vertical-align: top;\n",
       "    }\n",
       "\n",
       "    .dataframe thead th {\n",
       "        text-align: right;\n",
       "    }\n",
       "</style>\n",
       "<table border=\"1\" class=\"dataframe\">\n",
       "  <thead>\n",
       "    <tr style=\"text-align: right;\">\n",
       "      <th></th>\n",
       "      <th>Sepal.Length</th>\n",
       "      <th>Sepal.Width</th>\n",
       "      <th>Petal.Length</th>\n",
       "      <th>Petal.Width</th>\n",
       "      <th>Species</th>\n",
       "    </tr>\n",
       "  </thead>\n",
       "  <tbody>\n",
       "    <tr>\n",
       "      <th>0</th>\n",
       "      <td>5.1</td>\n",
       "      <td>3.5</td>\n",
       "      <td>1.4</td>\n",
       "      <td>0.2</td>\n",
       "      <td>setosa</td>\n",
       "    </tr>\n",
       "    <tr>\n",
       "      <th>1</th>\n",
       "      <td>4.9</td>\n",
       "      <td>3.0</td>\n",
       "      <td>1.4</td>\n",
       "      <td>0.2</td>\n",
       "      <td>setosa</td>\n",
       "    </tr>\n",
       "    <tr>\n",
       "      <th>2</th>\n",
       "      <td>4.7</td>\n",
       "      <td>3.2</td>\n",
       "      <td>1.3</td>\n",
       "      <td>0.2</td>\n",
       "      <td>setosa</td>\n",
       "    </tr>\n",
       "    <tr>\n",
       "      <th>3</th>\n",
       "      <td>4.6</td>\n",
       "      <td>3.1</td>\n",
       "      <td>1.5</td>\n",
       "      <td>0.2</td>\n",
       "      <td>setosa</td>\n",
       "    </tr>\n",
       "    <tr>\n",
       "      <th>4</th>\n",
       "      <td>5.0</td>\n",
       "      <td>3.6</td>\n",
       "      <td>1.4</td>\n",
       "      <td>0.2</td>\n",
       "      <td>setosa</td>\n",
       "    </tr>\n",
       "  </tbody>\n",
       "</table>\n",
       "</div>"
      ],
      "text/plain": [
       "   Sepal.Length  Sepal.Width  Petal.Length  Petal.Width Species\n",
       "0           5.1          3.5           1.4          0.2  setosa\n",
       "1           4.9          3.0           1.4          0.2  setosa\n",
       "2           4.7          3.2           1.3          0.2  setosa\n",
       "3           4.6          3.1           1.5          0.2  setosa\n",
       "4           5.0          3.6           1.4          0.2  setosa"
      ]
     },
     "execution_count": 3,
     "metadata": {},
     "output_type": "execute_result"
    }
   ],
   "source": [
    "# Loading csv file:\n",
    "iris = pd.read_csv(\"~/gitrepos/custom_scripts/iris_dataset.csv\")\n",
    "iris.head()"
   ]
  },
  {
   "cell_type": "code",
   "execution_count": 8,
   "metadata": {},
   "outputs": [
    {
     "name": "stdout",
     "output_type": "stream",
     "text": [
      "<class 'pandas.core.frame.DataFrame'>\n",
      "RangeIndex: 150 entries, 0 to 149\n",
      "Data columns (total 5 columns):\n",
      " #   Column        Non-Null Count  Dtype  \n",
      "---  ------        --------------  -----  \n",
      " 0   Sepal.Length  150 non-null    float64\n",
      " 1   Sepal.Width   150 non-null    float64\n",
      " 2   Petal.Length  150 non-null    float64\n",
      " 3   Petal.Width   150 non-null    float64\n",
      " 4   Species       150 non-null    object \n",
      "dtypes: float64(4), object(1)\n",
      "memory usage: 6.0+ KB\n"
     ]
    }
   ],
   "source": [
    "# What is the number of observations in the dataset?\n",
    "# iris.shape\n",
    "iris.info()"
   ]
  },
  {
   "cell_type": "code",
   "execution_count": 10,
   "metadata": {},
   "outputs": [
    {
     "name": "stdout",
     "output_type": "stream",
     "text": [
      "Number of columns: 150\n",
      "Number of rows: 5\n"
     ]
    }
   ],
   "source": [
    "# Print the number of rows and columns:\n",
    "ncols = iris.shape[0]\n",
    "nrows = iris.shape[1]\n",
    "\n",
    "print(f\"Number of columns: {ncols}\\nNumber of rows: {nrows}\")"
   ]
  },
  {
   "cell_type": "code",
   "execution_count": 22,
   "metadata": {},
   "outputs": [
    {
     "data": {
      "text/plain": [
       "Index(['Sepal.Length', 'Sepal.Width', 'Petal.Length', 'Petal.Width'], dtype='object')"
      ]
     },
     "execution_count": 22,
     "metadata": {},
     "output_type": "execute_result"
    }
   ],
   "source": [
    "# Print the column names:\n",
    "iris.columns"
   ]
  },
  {
   "cell_type": "code",
   "execution_count": 12,
   "metadata": {},
   "outputs": [
    {
     "data": {
      "text/plain": [
       "RangeIndex(start=0, stop=150, step=1)"
      ]
     },
     "execution_count": 12,
     "metadata": {},
     "output_type": "execute_result"
    }
   ],
   "source": [
    "# Check how the dataset is indexed\n",
    "iris.index"
   ]
  },
  {
   "cell_type": "code",
   "execution_count": 24,
   "metadata": {},
   "outputs": [
    {
     "data": {
      "text/html": [
       "<div>\n",
       "<style scoped>\n",
       "    .dataframe tbody tr th:only-of-type {\n",
       "        vertical-align: middle;\n",
       "    }\n",
       "\n",
       "    .dataframe tbody tr th {\n",
       "        vertical-align: top;\n",
       "    }\n",
       "\n",
       "    .dataframe thead tr th {\n",
       "        text-align: left;\n",
       "    }\n",
       "\n",
       "    .dataframe thead tr:last-of-type th {\n",
       "        text-align: right;\n",
       "    }\n",
       "</style>\n",
       "<table border=\"1\" class=\"dataframe\">\n",
       "  <thead>\n",
       "    <tr>\n",
       "      <th></th>\n",
       "      <th colspan=\"5\" halign=\"left\">Sepal.Length</th>\n",
       "      <th colspan=\"5\" halign=\"left\">Sepal.Width</th>\n",
       "      <th colspan=\"5\" halign=\"left\">Petal.Length</th>\n",
       "      <th colspan=\"5\" halign=\"left\">Petal.Width</th>\n",
       "    </tr>\n",
       "    <tr>\n",
       "      <th></th>\n",
       "      <th>min</th>\n",
       "      <th>mean</th>\n",
       "      <th>median</th>\n",
       "      <th>max</th>\n",
       "      <th>count</th>\n",
       "      <th>min</th>\n",
       "      <th>mean</th>\n",
       "      <th>median</th>\n",
       "      <th>max</th>\n",
       "      <th>count</th>\n",
       "      <th>min</th>\n",
       "      <th>mean</th>\n",
       "      <th>median</th>\n",
       "      <th>max</th>\n",
       "      <th>count</th>\n",
       "      <th>min</th>\n",
       "      <th>mean</th>\n",
       "      <th>median</th>\n",
       "      <th>max</th>\n",
       "      <th>count</th>\n",
       "    </tr>\n",
       "    <tr>\n",
       "      <th>Species</th>\n",
       "      <th></th>\n",
       "      <th></th>\n",
       "      <th></th>\n",
       "      <th></th>\n",
       "      <th></th>\n",
       "      <th></th>\n",
       "      <th></th>\n",
       "      <th></th>\n",
       "      <th></th>\n",
       "      <th></th>\n",
       "      <th></th>\n",
       "      <th></th>\n",
       "      <th></th>\n",
       "      <th></th>\n",
       "      <th></th>\n",
       "      <th></th>\n",
       "      <th></th>\n",
       "      <th></th>\n",
       "      <th></th>\n",
       "      <th></th>\n",
       "    </tr>\n",
       "  </thead>\n",
       "  <tbody>\n",
       "    <tr>\n",
       "      <th>setosa</th>\n",
       "      <td>4.3</td>\n",
       "      <td>5.006</td>\n",
       "      <td>5.0</td>\n",
       "      <td>5.8</td>\n",
       "      <td>50</td>\n",
       "      <td>2.3</td>\n",
       "      <td>3.428</td>\n",
       "      <td>3.4</td>\n",
       "      <td>4.4</td>\n",
       "      <td>50</td>\n",
       "      <td>1.0</td>\n",
       "      <td>1.462</td>\n",
       "      <td>1.50</td>\n",
       "      <td>1.9</td>\n",
       "      <td>50</td>\n",
       "      <td>0.1</td>\n",
       "      <td>0.246</td>\n",
       "      <td>0.2</td>\n",
       "      <td>0.6</td>\n",
       "      <td>50</td>\n",
       "    </tr>\n",
       "    <tr>\n",
       "      <th>versicolor</th>\n",
       "      <td>4.9</td>\n",
       "      <td>5.936</td>\n",
       "      <td>5.9</td>\n",
       "      <td>7.0</td>\n",
       "      <td>50</td>\n",
       "      <td>2.0</td>\n",
       "      <td>2.770</td>\n",
       "      <td>2.8</td>\n",
       "      <td>3.4</td>\n",
       "      <td>50</td>\n",
       "      <td>3.0</td>\n",
       "      <td>4.260</td>\n",
       "      <td>4.35</td>\n",
       "      <td>5.1</td>\n",
       "      <td>50</td>\n",
       "      <td>1.0</td>\n",
       "      <td>1.326</td>\n",
       "      <td>1.3</td>\n",
       "      <td>1.8</td>\n",
       "      <td>50</td>\n",
       "    </tr>\n",
       "    <tr>\n",
       "      <th>virginica</th>\n",
       "      <td>4.9</td>\n",
       "      <td>6.588</td>\n",
       "      <td>6.5</td>\n",
       "      <td>7.9</td>\n",
       "      <td>50</td>\n",
       "      <td>2.2</td>\n",
       "      <td>2.974</td>\n",
       "      <td>3.0</td>\n",
       "      <td>3.8</td>\n",
       "      <td>50</td>\n",
       "      <td>4.5</td>\n",
       "      <td>5.552</td>\n",
       "      <td>5.55</td>\n",
       "      <td>6.9</td>\n",
       "      <td>50</td>\n",
       "      <td>1.4</td>\n",
       "      <td>2.026</td>\n",
       "      <td>2.0</td>\n",
       "      <td>2.5</td>\n",
       "      <td>50</td>\n",
       "    </tr>\n",
       "  </tbody>\n",
       "</table>\n",
       "</div>"
      ],
      "text/plain": [
       "           Sepal.Length                          Sepal.Width                \\\n",
       "                    min   mean median  max count         min   mean median   \n",
       "Species                                                                      \n",
       "setosa              4.3  5.006    5.0  5.8    50         2.3  3.428    3.4   \n",
       "versicolor          4.9  5.936    5.9  7.0    50         2.0  2.770    2.8   \n",
       "virginica           4.9  6.588    6.5  7.9    50         2.2  2.974    3.0   \n",
       "\n",
       "                      Petal.Length                          Petal.Width  \\\n",
       "            max count          min   mean median  max count         min   \n",
       "Species                                                                   \n",
       "setosa      4.4    50          1.0  1.462   1.50  1.9    50         0.1   \n",
       "versicolor  3.4    50          3.0  4.260   4.35  5.1    50         1.0   \n",
       "virginica   3.8    50          4.5  5.552   5.55  6.9    50         1.4   \n",
       "\n",
       "                                     \n",
       "             mean median  max count  \n",
       "Species                              \n",
       "setosa      0.246    0.2  0.6    50  \n",
       "versicolor  1.326    1.3  1.8    50  \n",
       "virginica   2.026    2.0  2.5    50  "
      ]
     },
     "execution_count": 24,
     "metadata": {},
     "output_type": "execute_result"
    }
   ],
   "source": [
    "# Check the ranges of width and length of each species:\n",
    "#pd.melt(iris,id_vars='Species', \n",
    "#        value_vars=iris.columns[:-1],\n",
    "#        var_name = \"Measure\",\n",
    "#        value_name=\"Value\")\n",
    "iris.groupby('Species').agg(['min','mean','median','max','count'])"
   ]
  },
  {
   "cell_type": "code",
   "execution_count": 218,
   "metadata": {},
   "outputs": [
    {
     "name": "stdout",
     "output_type": "stream",
     "text": [
      "##fileformat=VCFv4.3\n",
      "##FILTER=<ID=PASS,Description=\"All filters passed\">\n",
      "##fileDate=26022019_15h52m43s\n",
      "##source=IGSRpipeline\n",
      "##reference=ftp://ftp.1000genomes.ebi.ac.uk/vol1/ftp/technical/reference/GRCh38_reference_genome/GRCh38_full_analysis_set_plus_decoy_hla.fa\n",
      "##FORMAT=<ID=GT,Number=1,Type=String,Description=\"Phased Genotype\">\n",
      "##INFO=<ID=AC,Number=A,Type=Integer,Description=\"Total number of alternate alleles in called genotypes\">\n",
      "##INFO=<ID=AN,Number=1,Type=Integer,Description=\"Total number of alleles in called genotypes\">\n",
      "##INFO=<ID=VT,Number=.,Type=String,Description=\"indicates what type of variant the line represents\">\n",
      "##contig=<ID=20>\n",
      "#CHROM\tPOS\tID\tREF\tALT\tQUAL\tFILTER\tINFO\tFORMAT\tsample1\tsample2\tsample3\n",
      "\n"
     ]
    }
   ],
   "source": [
    "# Parse vcf\n",
    "import pysam\n",
    "import pandas\n",
    "import re\n",
    "import itertools\n",
    "import csv\n",
    "vcf1 = pysam.VariantFile(\"/home/akram/Documents/Akram/Biofidelity/chr20.variants_20072022.vcf\")\n",
    "print(vcf1.header)\n"
   ]
  },
  {
   "cell_type": "code",
   "execution_count": 38,
   "metadata": {},
   "outputs": [
    {
     "name": "stdout",
     "output_type": "stream",
     "text": [
      "/home/akram/miniconda3/lib/python3.7/site-packages/pysam/__init__.py\n"
     ]
    }
   ],
   "source": [
    "print(pysam.__file__)"
   ]
  },
  {
   "cell_type": "code",
   "execution_count": 219,
   "metadata": {},
   "outputs": [],
   "source": [
    "# VCF metadata\n",
    "number_samples = len(vcf1.header.samples)\n"
   ]
  },
  {
   "cell_type": "markdown",
   "metadata": {},
   "source": [
    "You should parse the VCF file named (‘chr20.variants.GRCh38.vcf.gz’) containing variants in\n",
    "the chromosome 20 and generate a report with the following information:\n",
    "\n",
    "* Metadata. E.g. number of samples, file format, etc.\n",
    "* Metrics on the variants reported in the file. E.g. count of SNPs, INDELs, heterozygous,homozygous, substitution types, etc.\n",
    "* Distribution of variants across the chromosome and possible mutational processes that might be operative."
   ]
  },
  {
   "cell_type": "code",
   "execution_count": 285,
   "metadata": {},
   "outputs": [
    {
     "name": "stdout",
     "output_type": "stream",
     "text": [
      "##fileformat=VCFv4.3\n",
      "##FILTER=<ID=PASS,Description=\"All filters passed\">\n",
      "##fileDate=26022019_15h52m43s\n",
      "##source=IGSRpipeline\n",
      "##reference=ftp://ftp.1000genomes.ebi.ac.uk/vol1/ftp/technical/reference/GRCh38_reference_genome/GRCh38_full_analysis_set_plus_decoy_hla.fa\n",
      "##FORMAT=<ID=GT,Number=1,Type=String,Description=\"Phased Genotype\">\n",
      "##INFO=<ID=AC,Number=A,Type=Integer,Description=\"Total number of alternate alleles in called genotypes\">\n",
      "##INFO=<ID=AN,Number=1,Type=Integer,Description=\"Total number of alleles in called genotypes\">\n",
      "##INFO=<ID=VT,Number=.,Type=String,Description=\"indicates what type of variant the line represents\">\n",
      "##contig=<ID=20>\n",
      "['#CHROM\\tPOS\\tID\\tREF\\tALT\\tQUAL\\tFILTER\\tINFO\\tFORMAT\\tsample1\\tsample2\\tsample3\\n']\n",
      "8749\n"
     ]
    }
   ],
   "source": [
    "vcf_path = \"/home/akram/Documents/Akram/Biofidelity/chr20.variants_20072022.vcf\"\n",
    "metadata = []\n",
    "header = []\n",
    "with open(vcf_path,'r') as vcf:\n",
    "    n_lines = 0\n",
    "    for line in vcf:\n",
    "        if line.startswith('##'):\n",
    "            metadata.append(line.strip())\n",
    "        elif line.startswith('#'):\n",
    "            header.append(line.strip('\\t'))\n",
    "        \n",
    "        n_lines += 1\n",
    "            \n",
    "number_records = n_lines - len(metadata) - len(header)\n",
    "\n",
    "\n",
    "for metadata_line in metadata:\n",
    "    print(metadata_line)\n",
    "\n",
    "print(header)\n",
    "print(number_records)\n",
    "\n"
   ]
  },
  {
   "cell_type": "code",
   "execution_count": 341,
   "metadata": {},
   "outputs": [
    {
     "name": "stdout",
     "output_type": "stream",
     "text": [
      "['VCFv4.3', '26022019_15h52m43s', 'IGSRpipeline', 'ftp://ftp.1000genomes.ebi.ac.uk/vol1/ftp/technical/reference/GRCh38_reference_genome/GRCh38_full_analysis_set_plus_decoy_hla.fa', 3, 8749, 'PASS', '20', 'GT', ['AC', 'AN', 'VT']]\n"
     ]
    }
   ],
   "source": [
    "def parseLine(line,sep):\n",
    "    if sep == '=':    \n",
    "        metinfo = line[2:].split(sep)[1]\n",
    "    else:\n",
    "        metinfo = line[2:].split(sep)[1]\n",
    "\n",
    "    return metinfo\n",
    "\n",
    "def getMetadata(vcf_path):\n",
    "    \n",
    "    metadata = []\n",
    "    header = []\n",
    "    with open(vcf_path,'r') as vcf:\n",
    "        n_lines = 0\n",
    "        for line in vcf:\n",
    "            if line.startswith('##'):\n",
    "                metadata.append(line.strip())\n",
    "            elif line.startswith('#'):\n",
    "                header.append(line.strip('\\t'))\n",
    "            n_lines += 1\n",
    "            \n",
    "    number_records = n_lines - len(metadata) - len(header)\n",
    "\n",
    "    # Extract metadata information for the short tags:\n",
    "    tags = ['fileformat','fileDate','source','reference']\n",
    "    metadata_info = []\n",
    "    for tag in tags:\n",
    "        for line in metadata:\n",
    "            if tag in line:\n",
    "                parsed_tag = parseLine(line,'=')      \n",
    "        \n",
    "        metadata_info.append(parsed_tag)\n",
    "    \n",
    "    # Extract metadata information for the longer tags:\n",
    "    filter_line = [line for line in metadata if line.startswith(\"##FILTER\")]\n",
    "    info_lines = [line for line in metadata if line.startswith(\"##INFO\")]\n",
    "    format_line = [line for line in metadata if line.startswith(\"##FORMAT\")]\n",
    "    contig_line = [line for line in metadata if line.startswith(\"##contig\")]\n",
    "    \n",
    "    # Get sample IDs\n",
    "    samples = header[0].strip().split('\\t')[9:]\n",
    "    number_samples = len(samples)\n",
    "    format = parseLine(format_line[0],'=<ID=').split(',')[0]\n",
    "    filter = parseLine(filter_line[0],'=<ID=').split(',')[0]\n",
    "    info = [parseLine(x,'=<ID=').split(',')[0] for x in info_lines]\n",
    "    contigs = parseLine(contig_line[0],'=<ID=').split('=')[0].replace(\">\",\"\")\n",
    "\n",
    "    for x in [number_samples,number_records,filter,contigs,format,info]:\n",
    "        metadata_info.append(x)\n",
    "    \n",
    "    #metadata_info.extend(info)\n",
    "    return(metadata_info)\n",
    "\n",
    "\n",
    "\n",
    "tmp  = getMetadata(vcf_path)\n",
    "\n",
    "\n",
    "colnames = ['File Format','File Date','Source','Reference','Number of Samples','Number of Records','Filter','Contigs','Format','Info']\n",
    "\n",
    "outpath = \"/home/akram/Documents/Akram/Biofidelity/chr20.variants_summary_report.vcf\"\n",
    "\n",
    "with open(outpath,'w',newline='') as report:\n",
    "    report_writer = csv.writer(report, delimiter=':')\n",
    "    \n",
    "    for colname,data in zip(colnames,tmp):\n",
    "        report_writer.writerow([colname,data])\n",
    "    \n"
   ]
  },
  {
   "cell_type": "code",
   "execution_count": 358,
   "metadata": {},
   "outputs": [],
   "source": [
    "def is_heterozygous(ref,alt):\n",
    "    if ref != alt :\n",
    "        True\n",
    "        \n",
    "        \n",
    "#def getData(vcf_path):\n",
    "    with open(vcf_path,'r') as vcf:\n",
    "        vcf_data = []\n",
    "        for line in vcf:\n",
    "            if not line.startswith('##'):\n",
    "                data.append(line.strip())\n",
    "#    return(data)\n",
    "                \n",
    "split_data = [line.split('\\t') for line in vcf_data]\n",
    "split_data\n",
    "#vcf_data = getData(vcf_path)\n",
    "\n",
    "#df[df['INFO'].str.contains('INDEL')]\n"
   ]
  },
  {
   "cell_type": "code",
   "execution_count": 393,
   "metadata": {},
   "outputs": [
    {
     "data": {
      "text/plain": [
       "VT\n",
       "INDEL     869\n",
       "SNP      7880\n",
       "dtype: int64"
      ]
     },
     "execution_count": 393,
     "metadata": {},
     "output_type": "execute_result"
    }
   ],
   "source": [
    "def cleanRow(row):\n",
    "    return row.replace(r'[a-zA-Z]','')\n",
    "\n",
    "df = pd.DataFrame(split_data[1:], columns=split_data[0])\n",
    "#df[['INFO_AC', 'INFO_AN', 'INFO_VT']] = \n",
    "tmp  = df['INFO'].str.split(';', expand=True)\n",
    "tmp.columns=['AC','AN','VT']\n",
    "tmp['VT'] = tmp['VT'].str.replace('VT=','')\n",
    "#tmp.head\n",
    "tmp.groupby('VT').size()\n",
    "\n",
    "#df['INFO_AC', 'INFO_AN', 'INFO_VT']\n",
    "\n",
    "#df.head\n",
    "#metadata_info = []\n",
    "#print(metadata)\n",
    "#for colname,data in zip(colnames,metadata_info):\n",
    "#    print(f\"{colname}: {data}\")\n",
    "    \n",
    "\n",
    "#[number_samples,number_records,filter[0],contigs[0],info]\n",
    "#import csv\n",
    "#[metadata_info,number_samples,number_records,filter,contigs]#,info\n",
    "#metadata_info\n",
    "#line = metadata[2]\n",
    "#parseLine(line,'=')\n",
    "#contig_line = [line for line in metadata if line.startswith(\"##contig\")]\n",
    "#contig_line\n",
    "\n",
    "\n",
    "#parseLine(info_lines,'=<ID=').split(',')[0]\n"
   ]
  },
  {
   "cell_type": "code",
   "execution_count": 95,
   "metadata": {},
   "outputs": [
    {
     "data": {
      "text/plain": [
       "True"
      ]
     },
     "execution_count": 95,
     "metadata": {},
     "output_type": "execute_result"
    }
   ],
   "source": [
    "ref = 'A'\n",
    "alt = 'G'\n",
    "transitions = {\n",
    "        'A': 'G',\n",
    "        'G': 'A',\n",
    "        'C': 'T',\n",
    "        'T': 'C'\n",
    "}\n",
    "def is_transition(ref,alt):\n",
    " return alt == transitions.get(ref)\n",
    "#transitions.keys()\n",
    "#transitions.values()\n",
    "#transitions.items()\n",
    "#transitions.get('A')\n",
    "\n",
    "is_transition(ref,alt)"
   ]
  }
 ],
 "metadata": {
  "kernelspec": {
   "display_name": "base",
   "language": "python",
   "name": "python3"
  },
  "language_info": {
   "codemirror_mode": {
    "name": "ipython",
    "version": 3
   },
   "file_extension": ".py",
   "mimetype": "text/x-python",
   "name": "python",
   "nbconvert_exporter": "python",
   "pygments_lexer": "ipython3",
   "version": "3.7.12"
  }
 },
 "nbformat": 4,
 "nbformat_minor": 2
}
