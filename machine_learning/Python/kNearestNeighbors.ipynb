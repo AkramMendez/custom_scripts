{
 "cells": [
  {
   "cell_type": "code",
   "execution_count": 81,
   "metadata": {},
   "outputs": [],
   "source": [
    "from sklearn.preprocessing import StandardScaler\n",
    "from sklearn.neighbors import KNeighborsClassifier\n",
    "from sklearn.model_selection import train_test_split,cross_val_score\n",
    "from sklearn.impute import SimpleImputer\n",
    "from sklearn.metrics import accuracy_score\n",
    "import pandas as pd\n",
    "import numpy as np\n",
    "import seaborn as sns\n",
    "from ucimlrepo import fetch_ucirepo"
   ]
  },
  {
   "cell_type": "code",
   "execution_count": 117,
   "metadata": {},
   "outputs": [
    {
     "name": "stdout",
     "output_type": "stream",
     "text": [
      "{'uci_id': 15, 'name': 'Breast Cancer Wisconsin (Original)', 'repository_url': 'https://archive.ics.uci.edu/dataset/15/breast+cancer+wisconsin+original', 'data_url': 'https://archive.ics.uci.edu/static/public/15/data.csv', 'abstract': 'Original Wisconsin Breast Cancer Database', 'area': 'Health and Medicine', 'tasks': ['Classification'], 'characteristics': ['Multivariate'], 'num_instances': 699, 'num_features': 9, 'feature_types': ['Integer'], 'demographics': [], 'target_col': ['Class'], 'index_col': ['Sample_code_number'], 'has_missing_values': 'yes', 'missing_values_symbol': 'NaN', 'year_of_dataset_creation': 1990, 'last_updated': 'Sun Mar 10 2024', 'dataset_doi': '10.24432/C5HP4Z', 'creators': ['WIlliam Wolberg'], 'intro_paper': None, 'additional_info': {'summary': \"Samples arrive periodically as Dr. Wolberg reports his clinical cases. The database therefore reflects this chronological grouping of the data. This grouping information appears immediately below, having been removed from the data itself:\\r\\n\\r\\nGroup 1: 367 instances (January 1989)\\r\\nGroup 2:  70 instances (October 1989)\\r\\nGroup 3:  31 instances (February 1990)\\r\\nGroup 4:  17 instances (April 1990)\\r\\nGroup 5:  48 instances (August 1990)\\r\\nGroup 6:  49 instances (Updated January 1991)\\r\\nGroup 7:  31 instances (June 1991)\\r\\nGroup 8:  86 instances (November 1991)\\r\\n-----------------------------------------\\r\\nTotal:   699 points (as of the donated datbase on 15 July 1992)\\r\\n\\r\\nNote that the results summarized above in Past Usage refer to a dataset of size 369, while Group 1 has only 367 instances.  This is because it originally contained 369 instances; 2 were removed.  The following statements summarizes changes to the original Group 1's set of data:\\r\\n\\r\\n#####  Group 1 : 367 points: 200B 167M (January 1989)\\r\\n\\r\\n#####  Revised Jan 10, 1991: Replaced zero bare nuclei in 1080185 & 1187805\\r\\n\\r\\n#####  Revised Nov 22,1991: Removed 765878,4,5,9,7,10,10,10,3,8,1 no record\\r\\n#####                  : Removed 484201,2,7,8,8,4,3,10,3,4,1 zero epithelial\\r\\n#####                  : Changed 0 to 1 in field 6 of sample 1219406\\r\\n#####                  : Changed 0 to 1 in field 8 of following sample:\\r\\n#####                  : 1182404,2,3,1,1,1,2,0,1,1,1\", 'purpose': None, 'funded_by': None, 'instances_represent': None, 'recommended_data_splits': None, 'sensitive_data': None, 'preprocessing_description': None, 'variable_info': '1. Sample code number:            id number\\r\\n2. Clump Thickness:               1 - 10\\r\\n3. Uniformity of Cell Size:       1 - 10\\r\\n4. Uniformity of Cell Shape:      1 - 10\\r\\n5. Marginal Adhesion:             1 - 10\\r\\n6. Single Epithelial Cell Size:   1 - 10\\r\\n7. Bare Nuclei:                   1 - 10\\r\\n8. Bland Chromatin:               1 - 10\\r\\n9. Normal Nucleoli:               1 - 10\\r\\n10. Mitoses:                       1 - 10\\r\\n11. Class:                        (2 for benign, 4 for malignant)', 'citation': 'This breast cancer databases was obtained from the University of Wisconsin Hospitals, Madison from Dr. William H. Wolberg.  If you publish results when using this database, then please include this information in your acknowledgements.  Also, please cite one or more of:\\n1. O. L. Mangasarian and W. H. Wolberg: \"Cancer diagnosis via linear programming\", SIAM News, Volume 23, Number 5, September 1990, pp 1 & 18.\\n2. William H. Wolberg and O.L. Mangasarian: \"Multisurface method of pattern separation for medical diagnosis applied to breast cytology\", Proceedings of the National Academy of Sciences, U.S.A., Volume 87, December 1990, pp 9193-9196.\\n3. O. L. Mangasarian, R. Setiono, and W.H. Wolberg: \"Pattern recognition via linear programming: Theory and application to medical diagnosis\", in: \"Large-scale numerical optimization\", Thomas F. Coleman and Yuying Li, editors, SIAM Publications, Philadelphia 1990, pp 22-30.\\n4. K. P. Bennett & O. L. Mangasarian: \"Robust linear programming discrimination of two linearly inseparable sets\", Optimization Methods and Software 1, 1992, 23-34 (Gordon & Breach Science Publishers).'}}\n",
      "                           name     role         type demographic  \\\n",
      "0            Sample_code_number       ID  Categorical        None   \n",
      "1               Clump_thickness  Feature      Integer        None   \n",
      "2       Uniformity_of_cell_size  Feature      Integer        None   \n",
      "3      Uniformity_of_cell_shape  Feature      Integer        None   \n",
      "4             Marginal_adhesion  Feature      Integer        None   \n",
      "5   Single_epithelial_cell_size  Feature      Integer        None   \n",
      "6                   Bare_nuclei  Feature      Integer        None   \n",
      "7               Bland_chromatin  Feature      Integer        None   \n",
      "8               Normal_nucleoli  Feature      Integer        None   \n",
      "9                       Mitoses  Feature      Integer        None   \n",
      "10                        Class   Target       Binary        None   \n",
      "\n",
      "                  description units missing_values  \n",
      "0                        None  None             no  \n",
      "1                        None  None             no  \n",
      "2                        None  None             no  \n",
      "3                        None  None             no  \n",
      "4                        None  None             no  \n",
      "5                        None  None             no  \n",
      "6                        None  None            yes  \n",
      "7                        None  None             no  \n",
      "8                        None  None             no  \n",
      "9                        None  None             no  \n",
      "10  2 = benign, 4 = malignant  None             no  \n"
     ]
    }
   ],
   "source": [
    "# Fetch Breast Cancer Dataset:\n",
    "#ucimlrepo.list_available_datasets()\n",
    "# See: https://github.com/uci-ml-repo/ucimlrepo\n",
    "#breast_cancer_df = fetch_ucirepo(id=15)\n",
    "\n",
    "# Data processing\n",
    "X = breast_cancer_df.data.features.Uniformity_of_cell_shape\n",
    "y = breast_cancer_df.data.targets\n",
    "\n",
    "# metadata\n",
    "print(breast_cancer_df.metadata)\n",
    "\n",
    "# variable information\n",
    "print(breast_cancer_df.variables)"
   ]
  },
  {
   "cell_type": "code",
   "execution_count": 172,
   "metadata": {},
   "outputs": [
    {
     "data": {
      "image/png": "[encoded data removed]",
      "text/plain": [
       "<Figure size 640x480 with 1 Axes>"
      ]
     },
     "metadata": {},
     "output_type": "display_data"
    }
   ],
   "source": [
    "# Plot the selected feature (Uniformity_of_cell_shape) and target variable (Class of Breast cancer)\n",
    "\n",
    "plt1 = sns.scatterplot(x=X.to_frame()['Uniformity_of_cell_shape'],y=y['Class'], hue=y['Class'])"
   ]
  },
  {
   "cell_type": "code",
   "execution_count": 119,
   "metadata": {},
   "outputs": [
    {
     "name": "stdout",
     "output_type": "stream",
     "text": [
      "                           name     role         type demographic  \\\n",
      "0            Sample_code_number       ID  Categorical        None   \n",
      "1               Clump_thickness  Feature      Integer        None   \n",
      "2       Uniformity_of_cell_size  Feature      Integer        None   \n",
      "3      Uniformity_of_cell_shape  Feature      Integer        None   \n",
      "4             Marginal_adhesion  Feature      Integer        None   \n",
      "5   Single_epithelial_cell_size  Feature      Integer        None   \n",
      "6                   Bare_nuclei  Feature      Integer        None   \n",
      "7               Bland_chromatin  Feature      Integer        None   \n",
      "8               Normal_nucleoli  Feature      Integer        None   \n",
      "9                       Mitoses  Feature      Integer        None   \n",
      "10                        Class   Target       Binary        None   \n",
      "\n",
      "                  description units missing_values  \n",
      "0                        None  None             no  \n",
      "1                        None  None             no  \n",
      "2                        None  None             no  \n",
      "3                        None  None             no  \n",
      "4                        None  None             no  \n",
      "5                        None  None             no  \n",
      "6                        None  None            yes  \n",
      "7                        None  None             no  \n",
      "8                        None  None             no  \n",
      "9                        None  None             no  \n",
      "10  2 = benign, 4 = malignant  None             no  \n"
     ]
    },
    {
     "data": {
      "text/plain": [
       "Class\n",
       "2        458\n",
       "4        241\n",
       "dtype: int64"
      ]
     },
     "execution_count": 119,
     "metadata": {},
     "output_type": "execute_result"
    }
   ],
   "source": [
    "# The Target variable corresponds to the 'Class' column with possible classification values  2 = benign, 4 = malignant.\n",
    "print(breast_cancer_df.variables)\n",
    "y.value_counts()"
   ]
  },
  {
   "cell_type": "code",
   "execution_count": null,
   "metadata": {},
   "outputs": [],
   "source": [
    "# Check for NA values\n",
    "nan_indices = np.isnan(X_test)\n",
    "nan_count = np.sum(nan_indices)\n",
    "nan_count\n",
    "\n",
    "# Check for Inf values:\n",
    "inf_indices = np.isinf(X_test)\n",
    "inf_count = np.sum(inf_indices)\n",
    "inf_count"
   ]
  },
  {
   "cell_type": "code",
   "execution_count": 126,
   "metadata": {},
   "outputs": [
    {
     "data": {
      "text/plain": [
       "216     1\n",
       "592     4\n",
       "667     1\n",
       "621     3\n",
       "487    10\n",
       "       ..\n",
       "122    10\n",
       "547     1\n",
       "513     1\n",
       "392     1\n",
       "576     1\n",
       "Name: Uniformity_of_cell_shape, Length: 559, dtype: int64"
      ]
     },
     "execution_count": 126,
     "metadata": {},
     "output_type": "execute_result"
    }
   ],
   "source": [
    "X_train"
   ]
  },
  {
   "cell_type": "code",
   "execution_count": 127,
   "metadata": {},
   "outputs": [
    {
     "name": "stdout",
     "output_type": "stream",
     "text": [
      "Accuracy: 0.9285714285714286\n"
     ]
    }
   ],
   "source": [
    "# Split the data into training and test datasets:\n",
    "X_train, X_test, y_train, y_test = train_test_split(X,y,test_size=0.2)\n",
    "#np.ravel(y_train)\n",
    "# Scale and center the data:\n",
    "scaler = StandardScaler()\n",
    "\n",
    "# Impute missing data\n",
    "imputer = SimpleImputer(strategy=\"mean\")\n",
    "\n",
    "X_train_imputed = imputer.fit_transform(np.array(X_train).reshape(-1,1)) # Reshaping the data to 1 dimensional numpy array as we are using only one feature for classification.\n",
    "X_test_imputed = imputer.fit_transform(np.array(X_test).reshape(-1,1))\n",
    "\n",
    "X_train_scaled = scaler.fit_transform(X_train_imputed)\n",
    "X_test_scaled = scaler.fit_transform(X_test_imputed)\n",
    "\n",
    "\n",
    "knn = KNeighborsClassifier(n_neighbors=2)\n",
    "knn.fit(X_train_scaled,np.ravel(y_train))\n",
    "y_pred = knn.predict(X_test_scaled)\n",
    "y_pred\n",
    "accuracy = accuracy_score(y_test,y_pred)\n",
    "print(\"Accuracy:\",accuracy)\n"
   ]
  },
  {
   "cell_type": "code",
   "execution_count": 130,
   "metadata": {},
   "outputs": [
    {
     "data": {
      "text/plain": [
       "Text(0, 0.5, 'Accuracy score')"
      ]
     },
     "execution_count": 130,
     "metadata": {},
     "output_type": "execute_result"
    },
    {
     "data": {
      "image/png": "[encoded data removed]",
      "text/plain": [
       "<Figure size 640x480 with 1 Axes>"
      ]
     },
     "metadata": {},
     "output_type": "display_data"
    }
   ],
   "source": [
    "# Using cross-validation to estimate the best value of k neighbours:\n",
    "k_vals = [i for i in range(1,31)]\n",
    "cv_scores = []\n",
    "\n",
    "for k in k_vals:\n",
    "    knn = KNeighborsClassifier(n_neighbors=k)\n",
    "    cv_score = cross_val_score(knn,X_train_scaled,np.ravel(y_train),cv=5)\n",
    "    cv_scores.append(np.mean(cv_score))\n",
    "\n",
    "# Plot the cross-validation results:\n",
    "plt = sns.lineplot(x=k_vals,y=cv_scores, marker='o')\n",
    "plt.set_xlabel(\"K values\")\n",
    "plt.set_ylabel(\"Accuracy score\")\n",
    "\n"
   ]
  },
  {
   "cell_type": "code",
   "execution_count": 113,
   "metadata": {},
   "outputs": [
    {
     "data": {
      "text/html": [
       "<div>\n",
       "<style scoped>\n",
       "    .dataframe tbody tr th:only-of-type {\n",
       "        vertical-align: middle;\n",
       "    }\n",
       "\n",
       "    .dataframe tbody tr th {\n",
       "        vertical-align: top;\n",
       "    }\n",
       "\n",
       "    .dataframe thead th {\n",
       "        text-align: right;\n",
       "    }\n",
       "</style>\n",
       "<table border=\"1\" class=\"dataframe\">\n",
       "  <thead>\n",
       "    <tr style=\"text-align: right;\">\n",
       "      <th></th>\n",
       "      <th>Clump_thickness</th>\n",
       "      <th>Uniformity_of_cell_size</th>\n",
       "      <th>Uniformity_of_cell_shape</th>\n",
       "      <th>Marginal_adhesion</th>\n",
       "      <th>Single_epithelial_cell_size</th>\n",
       "      <th>Bare_nuclei</th>\n",
       "      <th>Bland_chromatin</th>\n",
       "      <th>Normal_nucleoli</th>\n",
       "      <th>Mitoses</th>\n",
       "    </tr>\n",
       "  </thead>\n",
       "  <tbody>\n",
       "    <tr>\n",
       "      <th>204</th>\n",
       "      <td>1</td>\n",
       "      <td>1</td>\n",
       "      <td>1</td>\n",
       "      <td>1</td>\n",
       "      <td>2</td>\n",
       "      <td>1.0</td>\n",
       "      <td>3</td>\n",
       "      <td>1</td>\n",
       "      <td>1</td>\n",
       "    </tr>\n",
       "    <tr>\n",
       "      <th>256</th>\n",
       "      <td>3</td>\n",
       "      <td>1</td>\n",
       "      <td>1</td>\n",
       "      <td>1</td>\n",
       "      <td>2</td>\n",
       "      <td>1.0</td>\n",
       "      <td>1</td>\n",
       "      <td>1</td>\n",
       "      <td>1</td>\n",
       "    </tr>\n",
       "    <tr>\n",
       "      <th>142</th>\n",
       "      <td>9</td>\n",
       "      <td>5</td>\n",
       "      <td>5</td>\n",
       "      <td>4</td>\n",
       "      <td>4</td>\n",
       "      <td>5.0</td>\n",
       "      <td>4</td>\n",
       "      <td>3</td>\n",
       "      <td>3</td>\n",
       "    </tr>\n",
       "    <tr>\n",
       "      <th>284</th>\n",
       "      <td>7</td>\n",
       "      <td>4</td>\n",
       "      <td>5</td>\n",
       "      <td>10</td>\n",
       "      <td>2</td>\n",
       "      <td>10.0</td>\n",
       "      <td>3</td>\n",
       "      <td>8</td>\n",
       "      <td>2</td>\n",
       "    </tr>\n",
       "    <tr>\n",
       "      <th>115</th>\n",
       "      <td>1</td>\n",
       "      <td>1</td>\n",
       "      <td>1</td>\n",
       "      <td>1</td>\n",
       "      <td>2</td>\n",
       "      <td>5.0</td>\n",
       "      <td>1</td>\n",
       "      <td>1</td>\n",
       "      <td>1</td>\n",
       "    </tr>\n",
       "  </tbody>\n",
       "</table>\n",
       "</div>"
      ],
      "text/plain": [
       "     Clump_thickness  Uniformity_of_cell_size  Uniformity_of_cell_shape  \\\n",
       "204                1                        1                         1   \n",
       "256                3                        1                         1   \n",
       "142                9                        5                         5   \n",
       "284                7                        4                         5   \n",
       "115                1                        1                         1   \n",
       "\n",
       "     Marginal_adhesion  Single_epithelial_cell_size  Bare_nuclei  \\\n",
       "204                  1                            2          1.0   \n",
       "256                  1                            2          1.0   \n",
       "142                  4                            4          5.0   \n",
       "284                 10                            2         10.0   \n",
       "115                  1                            2          5.0   \n",
       "\n",
       "     Bland_chromatin  Normal_nucleoli  Mitoses  \n",
       "204                3                1        1  \n",
       "256                1                1        1  \n",
       "142                4                3        3  \n",
       "284                3                8        2  \n",
       "115                1                1        1  "
      ]
     },
     "execution_count": 113,
     "metadata": {},
     "output_type": "execute_result"
    }
   ],
   "source": []
  }
 ],
 "metadata": {
  "kernelspec": {
   "display_name": "base",
   "language": "python",
   "name": "python3"
  },
  "language_info": {
   "codemirror_mode": {
    "name": "ipython",
    "version": 3
   },
   "file_extension": ".py",
   "mimetype": "text/x-python",
   "name": "python",
   "nbconvert_exporter": "python",
   "pygments_lexer": "ipython3",
   "version": "3.7.12"
  }
 },
 "nbformat": 4,
 "nbformat_minor": 2
}
