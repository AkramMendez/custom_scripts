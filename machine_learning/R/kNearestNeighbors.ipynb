{
 "cells": [
  {
   "cell_type": "code",
   "execution_count": null,
   "id": "03ada054",
   "metadata": {},
   "outputs": [],
   "source": [
    "library(tidyverse)\n",
    "library(data.table)\n",
    "library(caret)\n"
   ]
  },
  {
   "cell_type": "markdown",
   "id": "85148a5e",
   "metadata": {},
   "source": [
    "K-Nearest Neighbors Algorithm:\n",
    "Supervised learning classification algorithm"
   ]
  },
  {
   "cell_type": "code",
   "execution_count": null,
   "id": "9a391348",
   "metadata": {
    "lines_to_next_cell": 0
   },
   "outputs": [],
   "source": [
    "# Loading reference dataset (COX-2 Activity Data) -------------------------\n",
    "# COX-2 Activity Data\n",
    "# From Sutherland, O’Brien, and Weaver (2003): A set of 467 cyclooxygenase-2 (COX-2) inhibitors has been assembled from the published work of a single research group, with in vitro activities against human recombinant enzyme expressed as IC50 values ranging from 1 nM to >100 uM (53 compounds have indeterminate IC50 values).\n",
    "# \n",
    "# A set of 255 descriptors (MOE2D and QikProp) were generated. To classify the data, we used a cutoff of 2^{2.5} to determine activity.\n",
    "# \n",
    "# Using data(cox2) exposes three R objects: cox2Descr is a data frame with the descriptor data, cox2IC50 is a numeric vector of IC50 assay values and cox2Class is a factor vector with the activity results.\n",
    "\n",
    "data(cox2)\n",
    "head(cox2Descr[1:5,1:5])"
   ]
  },
  {
   "cell_type": "markdown",
   "id": "88c3904d",
   "metadata": {
    "lines_to_next_cell": 0
   },
   "source": [
    "Splitting data as training and set datasets"
   ]
  },
  {
   "cell_type": "code",
   "execution_count": null,
   "id": "31ffe9c1",
   "metadata": {
    "lines_to_next_cell": 0
   },
   "outputs": [],
   "source": [
    "set.seed(42)\n",
    "# Create a subset dataframe to predict cox2 activity based on molecular weight or IC50 of each compound:\n",
    "\n",
    "cox2DescrSubset <- data.frame(weight=cox2Descr$moe2D_Weight,ic50=cox2IC50, class=cox2Class) \n",
    "\n",
    "idxTrain <- createDataPartition(y=cox2DescrSubset$class, p=0.8, list =FALSE)\n",
    "train_data <- cox2DescrSubset[idxTrain,]\n",
    "test_data <- cox2DescrSubset[-idxTrain,]\n",
    "\n",
    "# Verify the distribution of the training data and the partitioned data:\n",
    "prop.table(table(train_data$class))\n"
   ]
  },
  {
   "cell_type": "code",
   "execution_count": null,
   "id": "277e93cf",
   "metadata": {},
   "outputs": [],
   "source": [
    "prop.table(table(test_data$class))"
   ]
  },
  {
   "cell_type": "markdown",
   "id": "2951371f",
   "metadata": {
    "lines_to_next_cell": 0
   },
   "source": [
    "Pre-processing: Feature scaling\n",
    "Scaling and centering training and testing sets"
   ]
  },
  {
   "cell_type": "code",
   "execution_count": null,
   "id": "b6654935",
   "metadata": {},
   "outputs": [],
   "source": [
    "#Using base functions:\n",
    "#train_scaled <- scale(train_data[,c(\"weight\",\"ic50\")],center = TRUE,scale = TRUE)\n",
    "#test_scaled <- scale(test_data[,c(\"weight\",\"ic50\")],center = TRUE,scale = TRUE)\n",
    "#train_scaled <- scale(train_data[,c(\"weight\",\"ic50\")],center = TRUE,scale = TRUE)\n",
    "#test_scaled <- scale(test_data[,c(\"weight\",\"ic50\")],center = TRUE,scale = TRUE)\n",
    "\n",
    "# Using caret functions:\n",
    "preProc_cox2 <- preProcess(train_data[,c(\"weight\",\"ic50\")], method = c(\"center\",\"scale\"))\n",
    "train_scaled <- predict(preProc_cox2,train_data)\n",
    "test_scaled <- predict(preProc_cox2,test_data)\n"
   ]
  },
  {
   "cell_type": "markdown",
   "id": "f47c82ca",
   "metadata": {
    "lines_to_next_cell": 0
   },
   "source": [
    "Hyper-parameter tuning using cross-validation for finding the optimal value of k neighbors to use for classification."
   ]
  },
  {
   "cell_type": "code",
   "execution_count": null,
   "id": "b0ceec74",
   "metadata": {
    "lines_to_next_cell": 0
   },
   "outputs": [],
   "source": [
    "set.seed(42) # set random seed for reproduciblility\n",
    "\n",
    "# control object for training the kNN model \n",
    "ctrl <- trainControl(method = \"repeatedcv\",\n",
    "                     summaryFunction = defaultSummary,\n",
    "                     classProbs = TRUE,\n",
    "                     number = 10, # Number of folds in the cross-validation\n",
    "                     repeats = 10) # Number of times to repeat the cross-validation\n",
    "\n",
    "# Use the train() function to perform the model training/tuning of the k hyperparameter.\n",
    "knn_cv <- caret::train(class ~ .,\n",
    "                       data=train_data,\n",
    "                       method=\"knn\",\n",
    "                       trControl = ctrl, \n",
    "                       metric = \"Accuracy\", # Performance metric\n",
    "                       tuneGrid = data.frame(k = seq(1,30,by = 2))) # Grid for searching the optimal hyperparameter k\n",
    "\n",
    "knn_cv"
   ]
  },
  {
   "cell_type": "markdown",
   "id": "33eb621a",
   "metadata": {
    "lines_to_next_cell": 0
   },
   "source": [
    "### Plot kNN model tunning"
   ]
  },
  {
   "cell_type": "code",
   "execution_count": null,
   "id": "4ca10191",
   "metadata": {
    "lines_to_next_cell": 2
   },
   "outputs": [],
   "source": [
    "plot(knn_cv)"
   ]
  },
  {
   "cell_type": "markdown",
   "id": "6a5485ed",
   "metadata": {},
   "source": [
    "## Training KNN Classifier:\n",
    "After finding the optimal value of k number of neighbours, we will train the kNN classification model using the training dataset:"
   ]
  },
  {
   "cell_type": "code",
   "execution_count": null,
   "id": "c7b55854",
   "metadata": {},
   "outputs": [],
   "source": [
    "#library(class)\n",
    "# Select k according to the hyper-parameter tunning result (k with the largest accuracy)\n",
    "k <- knn_cv$results$k[which(knn_cv$results$Accuracy==max(knn_cv$results$Accuracy))]\n",
    "\n",
    "# Using the class:knn() function:\n",
    "# test_pred <- class::knn( train = train_scaled,\n",
    "#                          test = test_scaled,\n",
    "#                          cl = train_data$class, #\tfactor of true classifications of training set\n",
    "#                          k=k # Number of neighbours considered (selected optimal k in hyper-parameter tuning)\n",
    "#                          )\n",
    "\n",
    "# Using caret::train() function:\n",
    "best_kNN_model <- knn3(class ~ .,\n",
    "                       data = train_scaled,\n",
    "                       k=k)\n",
    "\n",
    "\n"
   ]
  },
  {
   "cell_type": "markdown",
   "id": "a60e8adb",
   "metadata": {
    "lines_to_next_cell": 0
   },
   "source": [
    "Model Evaluation\n",
    "We can compare the predicted Cox2 activity classification labels (Active/Inactive) vs the original class labels from the Cox2 dataset. \n",
    "Generating a confusion matrix:"
   ]
  },
  {
   "cell_type": "code",
   "execution_count": null,
   "id": "207df2f4",
   "metadata": {
    "lines_to_next_cell": 0
   },
   "outputs": [],
   "source": [
    "actual_class <- test_data$class\n",
    "predicted_class <- predict(best_kNN_model,\n",
    "                           test_scaled,\n",
    "                           type = \"class\")\n",
    "# Using base table() function:\n",
    "#confusion_matrix_cox2 <- table(actual_class,predicted_class)\n",
    "\n",
    "# Using caret::confusionMatrix() function:\n",
    "confusion_matrix_cox2 <- caret::confusionMatrix(actual_class,predicted_class)\n",
    "confusion_matrix_cox2"
   ]
  },
  {
   "cell_type": "markdown",
   "id": "1bf0b513",
   "metadata": {
    "lines_to_next_cell": 0
   },
   "source": [
    "Summary of classification performance:"
   ]
  },
  {
   "cell_type": "code",
   "execution_count": null,
   "id": "aeeceb8b",
   "metadata": {
    "lines_to_next_cell": 0
   },
   "outputs": [],
   "source": [
    "summary_knn <- data.frame(Accuracy = confusion_matrix_cox2$overall[\"Accuracy\"],\n",
    "           sensitivity= confusion_matrix_cox2$byClass[\"Sensitivity\"],\n",
    "           specificity= confusion_matrix_cox2$byClass[\"Specificity\"],\n",
    "           precision = confusion_matrix_cox2$byClass[\"Precision\"],\n",
    "           recall = confusion_matrix_cox2$byClass[\"Recall\"]\n",
    "           )\n",
    "summary_knn"
   ]
  },
  {
   "cell_type": "code",
   "execution_count": null,
   "id": "fc3ec954",
   "metadata": {
    "lines_to_next_cell": 0
   },
   "outputs": [],
   "source": [
    "library(pROC)\n",
    "library(hutils)\n",
    "\n",
    "predictions_cox2 <- predict(knn_cv,\n",
    "                           test_data[,c(\"weight\",\"ic50\")],\n",
    "                           type = \"prob\")\n",
    "\n",
    "# ROC curve:\n",
    "ground_truth_int <- as.numeric(hutils::Switch(as.character(test_data$class),\"Active\"=\"1\",\"Inactive\"=\"0\", DEFAULT = \"0\"))\n",
    "roc_curve_knn <- roc(response=ground_truth_int,# Vector of responses (true class)\n",
    "                     predictor=predictions_cox2[,\"Active\"]) # Predicted values for each observation\n",
    "\n",
    "# Plot ROC curve\n",
    "plot(roc_curve_knn, main = \"ROC Curve for KNN Predictions\", col = \"steelblue\")\n",
    "\n"
   ]
  },
  {
   "cell_type": "markdown",
   "id": "076ca816",
   "metadata": {},
   "source": []
  }
 ],
 "metadata": {
  "jupytext": {
   "cell_metadata_filter": "-all",
   "main_language": "R",
   "notebook_metadata_filter": "-all"
  }
 },
 "nbformat": 4,
 "nbformat_minor": 5
}
